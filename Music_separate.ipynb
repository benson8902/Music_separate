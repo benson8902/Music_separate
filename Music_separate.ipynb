{
 "cells": [
  {
   "cell_type": "code",
   "execution_count": null,
   "id": "393f6e84-2f11-4360-98e9-e7b5827f9084",
   "metadata": {},
   "outputs": [],
   "source": [
    "from spleeter import separator # extract music and vocal"
   ]
  },
  {
   "cell_type": "code",
   "execution_count": null,
   "id": "c023c873-4bbf-4654-a855-432492d63b8e",
   "metadata": {
    "scrolled": true
   },
   "outputs": [],
   "source": [
    "# init and choose stem\n",
    "separator = separator.Separator('spleeter:2stems')\n",
    "# separate music and vocal\n",
    "separator.separate_to_file('music.mp3', 'output')"
   ]
  },
  {
   "cell_type": "code",
   "execution_count": null,
   "id": "f48ce891-24ed-475f-a27a-5442f9b55524",
   "metadata": {},
   "outputs": [],
   "source": [
    "import subprocess\n",
    "import os\n",
    "\n",
    "def convert_wav_to_m4a(input_wav_path, output_m4a_path):\n",
    "    try:\n",
    "        command = [\n",
    "            \"/opt/homebrew/bin/ffmpeg\",  # location >> FFmpeg\n",
    "            \"-i\", input_wav_path,\n",
    "            \"-acodec\", \"aac\", # choose aac encoder\n",
    "            \"-ac\", \"2\",       # ser binaural\n",
    "            \"-ab\", \"441k\",     # set variable bitrate\n",
    "            output_m4a_path\n",
    "        ]\n",
    "        subprocess.run(command, check=True, capture_output=True, text=True) # capture_output=True, text=True 可以印出ffmpeg的輸出\n",
    "        print(f\"Finish：{input_wav_path} -> {output_m4a_path}\")\n",
    "    except subprocess.CalledProcessError as e:\n",
    "        print(f\"Fail：{e}\")\n",
    "        print(f\"FFmpeg 輸出:\\n{e.stderr}\")\n",
    "    except FileNotFoundError:\n",
    "        print(\"Can't find FFmpeg. Please confirm your install location.\")\n",
    "\n",
    "location = 'output/[music_name]/'\n",
    "input_file_music = location+\"accompaniment.wav\"\n",
    "output_file_music = location+\"accompaniment.m4a\"\n",
    "\n",
    "input_file_vocal = location+\"vocals.wav\"\n",
    "output_file_vocal = location+\"vocals.m4a\"\n",
    "\n",
    "convert_wav_to_m4a(input_file_music, output_file_music)\n",
    "convert_wav_to_m4a(input_file_vocal, output_file_vocal)"
   ]
  }
 ],
 "metadata": {
  "kernelspec": {
   "display_name": "Python 3 (ipykernel)",
   "language": "python",
   "name": "python3"
  },
  "language_info": {
   "codemirror_mode": {
    "name": "ipython",
    "version": 3
   },
   "file_extension": ".py",
   "mimetype": "text/x-python",
   "name": "python",
   "nbconvert_exporter": "python",
   "pygments_lexer": "ipython3",
   "version": "3.8.20"
  }
 },
 "nbformat": 4,
 "nbformat_minor": 5
}
